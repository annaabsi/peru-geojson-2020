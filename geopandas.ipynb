{
 "cells": [
  {
   "cell_type": "code",
   "execution_count": 1,
   "metadata": {},
   "outputs": [],
   "source": [
    "import geopandas as gpd\n",
    "gdf = gpd.read_file('distritos.json')"
   ]
  },
  {
   "cell_type": "code",
   "execution_count": 6,
   "metadata": {},
   "outputs": [],
   "source": [
    "list_departamentos = [\"AMAZONAS\",\n",
    "                    \"ANCASH\",\n",
    "                    \"APURIMAC\",\n",
    "                    \"AREQUIPA\",\n",
    "                    \"AYACUCHO\",\n",
    "                    \"CAJAMARCA\",\n",
    "                    \"CALLAO\",\n",
    "                    \"CUSCO\",\n",
    "                    \"HUANCAVELICA\",\n",
    "                    \"HUANUCO\",\n",
    "                    \"ICA\",\n",
    "                    \"JUNIN\",\n",
    "                    \"LA LIBERTAD\",\n",
    "                    \"LAMBAYEQUE\",\n",
    "                    \"LIMA\",\n",
    "                    \"LORETO\",\n",
    "                    \"MADRE DE DIOS\",\n",
    "                    \"MOQUEGUA\",\n",
    "                    \"PASCO\",\n",
    "                    \"PIURA\",\n",
    "                    \"PUNO\",\n",
    "                    \"SAN MARTIN\",\n",
    "                    \"TACNA\",\n",
    "                    \"TUMBES\",\n",
    "                    \"UCAYALI\"]"
   ]
  },
  {
   "cell_type": "code",
   "execution_count": 8,
   "metadata": {},
   "outputs": [],
   "source": [
    "for department_name in list_departamentos:\n",
    "    df_by_department=gdf[gdf['NOMBDEP'] == department_name]\n",
    "    df_by_department.to_file(f\"distritos_por_departamento/{department_name.lower()}.json\", driver=\"GeoJSON\")"
   ]
  }
 ],
 "metadata": {
  "interpreter": {
   "hash": "916dbcbb3f70747c44a77c7bcd40155683ae19c65e1c03b4aa3499c5328201f1"
  },
  "kernelspec": {
   "display_name": "Python 3.9.7 64-bit",
   "language": "python",
   "name": "python3"
  },
  "language_info": {
   "codemirror_mode": {
    "name": "ipython",
    "version": 3
   },
   "file_extension": ".py",
   "mimetype": "text/x-python",
   "name": "python",
   "nbconvert_exporter": "python",
   "pygments_lexer": "ipython3",
   "version": "3.9.7"
  },
  "orig_nbformat": 4
 },
 "nbformat": 4,
 "nbformat_minor": 2
}
